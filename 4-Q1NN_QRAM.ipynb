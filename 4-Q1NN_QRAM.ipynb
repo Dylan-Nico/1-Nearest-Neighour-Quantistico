{
 "cells": [
  {
   "cell_type": "code",
   "execution_count": 13,
   "id": "1aeb9e3e-96de-4e30-820f-87992c2222b9",
   "metadata": {},
   "outputs": [],
   "source": [
    "import qiskit\n",
    "import qiskit.quantum_info as qi\n",
    "from qiskit.visualization import plot_bloch_vector\n",
    "from qiskit.circuit.library import RYGate, MCMT, RYGate, CRYGate\n",
    "from sklearn import preprocessing\n",
    "\n",
    "import csv\n",
    "import numpy as np\n",
    "import pandas as pd\n",
    "import math\n",
    "from numpy import linalg,dot\n",
    "from qiskit import IBMQ\n",
    "from qiskit import (\n",
    "    QuantumCircuit,\n",
    "    QuantumRegister,\n",
    "    ClassicalRegister,\n",
    "    execute,\n",
    "    Aer)\n",
    "from qiskit.visualization import plot_histogram\n",
    "from operator import itemgetter\n",
    "from sklearn.preprocessing import StandardScaler"
   ]
  },
  {
   "cell_type": "code",
   "execution_count": 14,
   "id": "e54e5eba-8b31-44fe-befd-618bff3b63d7",
   "metadata": {},
   "outputs": [],
   "source": [
    "iris = pd.read_csv(\"Iris/iris.data\",header=None,names=[\"f0\",\"f1\",\"f2\",\"f3\",\"class\"])"
   ]
  },
  {
   "cell_type": "code",
   "execution_count": 15,
   "id": "fb51c38d",
   "metadata": {},
   "outputs": [],
   "source": [
    "#Standardise\n",
    "scaler = StandardScaler()\n",
    "iris.loc[:,[\"f0\",\"f1\",\"f2\",\"f3\"]] = scaler.fit_transform(iris.loc[:,[\"f0\",\"f1\",\"f2\",\"f3\"]])\n",
    "\n",
    "#Normalize\n",
    "iris.loc[:,[\"f0\",\"f1\",\"f2\",\"f3\"]] = preprocessing.normalize(iris.loc[:,[\"f0\",\"f1\",\"f2\",\"f3\"]], axis=1)"
   ]
  },
  {
   "cell_type": "code",
   "execution_count": 16,
   "id": "9eb90a95-177f-4cf0-8b3a-cbde96492d8e",
   "metadata": {},
   "outputs": [],
   "source": [
    "setosa = iris[iris[\"class\"] == \"Iris-setosa\"]\n",
    "versicolor = iris[iris[\"class\"] == \"Iris-versicolor\"]\n",
    "virginica = iris[iris[\"class\"] == \"Iris-virginica\"]"
   ]
  },
  {
   "cell_type": "code",
   "execution_count": 17,
   "id": "6ced27ea",
   "metadata": {},
   "outputs": [],
   "source": [
    "#dataset con 129 righe (128 quando sceglierò il test)\n",
    "versicolor = versicolor.iloc[:-11,:]\n",
    "virginica = virginica.iloc[:-10,:]"
   ]
  },
  {
   "cell_type": "code",
   "execution_count": 18,
   "id": "c66a8c81-5a50-40d0-80a3-6371ad0d63a7",
   "metadata": {},
   "outputs": [],
   "source": [
    "data = pd.concat([setosa,versicolor,virginica])"
   ]
  },
  {
   "cell_type": "code",
   "execution_count": 19,
   "id": "102171d6-2d45-4b56-8301-3b83041787de",
   "metadata": {},
   "outputs": [],
   "source": [
    "#qram\n",
    "def encodeVector(circuit,data,i,controls,rotationQubit,ancillaQubits):\n",
    "    #mcry(angolo,controls,rotation,ancilla)\n",
    "    \n",
    "    # |00>\n",
    "    circuit.x(i[0])\n",
    "    circuit.x(i[1])\n",
    "    circuit.append(MCMT(CRYGate(2*np.arcsin(data[0])), num_ctrl_qubits=len(controls), num_target_qubits=1), controls[0:]+[rotationQubit])\n",
    "    #circuit.mcry(np.arcsin(data[0]),controls,rotationQubit,ancillaQubits)\n",
    "    circuit.x(i[0])\n",
    "    circuit.x(i[1])\n",
    "    \n",
    "    circuit.barrier()\n",
    "    # |01>\n",
    "    circuit.x(i[1])\n",
    "    circuit.append(MCMT(CRYGate(2*np.arcsin(data[1])), num_ctrl_qubits=len(controls), num_target_qubits=1), controls[0:]+[rotationQubit])\n",
    "    #circuit.mcry(np.arcsin(data[1]),controls,rotationQubit,ancillaQubits)\n",
    "    circuit.x(i[1])\n",
    "    \n",
    "    circuit.barrier()\n",
    "    # |10>\n",
    "    circuit.x(i[0])\n",
    "    circuit.append(MCMT(CRYGate(2*np.arcsin(data[2])), num_ctrl_qubits=len(controls), num_target_qubits=1), controls[0:]+[rotationQubit])\n",
    "    #circuit.mcry(np.arcsin(data[2]),controls,rotationQubit,ancillaQubits)\n",
    "    circuit.x(i[0])\n",
    "    \n",
    "    circuit.barrier()\n",
    "    # |11>\n",
    "    circuit.append(MCMT(CRYGate(2*np.arcsin(data[3])), num_ctrl_qubits=len(controls), num_target_qubits=1), controls[0:]+[rotationQubit])\n",
    "    #circuit.mcry(np.arcsin(data[3]),controls,rotationQubit,ancillaQubits)"
   ]
  },
  {
   "cell_type": "code",
   "execution_count": 20,
   "id": "ebbf7e14-e36b-4968-97e4-431ebd95d97c",
   "metadata": {},
   "outputs": [],
   "source": [
    "# random_seed : int : Random number generator seed\n",
    "random_seed = 2\n",
    "rgen = np.random.RandomState(random_seed)\n",
    "def _shuffle(self, X, y):\n",
    "    \"\"\"Shuffle training data\"\"\"\n",
    "    r = self.rgen.permutation(len(y))\n",
    "    return X[r], y[r]"
   ]
  },
  {
   "cell_type": "code",
   "execution_count": 21,
   "id": "b151f5a2",
   "metadata": {},
   "outputs": [],
   "source": [
    "data = data.iloc[rgen.permutation(len(data.index))].copy()\n",
    "data_copy = data\n",
    "#data_copy"
   ]
  },
  {
   "cell_type": "code",
   "execution_count": 22,
   "id": "881bddba-693e-4c49-a465-fac6694629d2",
   "metadata": {},
   "outputs": [],
   "source": [
    "def encodeClasse(circuit,irisClass,t):\n",
    "    classSwitcher = {\n",
    "        \"Iris-setosa\": 0,\n",
    "        \"Iris-versicolor\": 1,\n",
    "        \"Iris-virginica\": 2\n",
    "    }\n",
    "    \n",
    "    if classSwitcher.get(irisClass) == 0:\n",
    "        circuit.x(t)\n",
    "    elif classSwitcher.get(irisClass) == 1:\n",
    "        circuit.x(t[1])\n",
    "    elif classSwitcher.get(irisClass) == 2:\n",
    "        circuit.x(t[0])\n",
    "\n",
    "def encodeIndex(circuit,index,u):\n",
    "    getBinary = lambda x, n: format(x, 'b').zfill(n)\n",
    "    index = getBinary(index,2)\n",
    "    #inverto la stringa\n",
    "    index = index[::-1]\n",
    "    for l in range(len(index)):\n",
    "        if(index[l] == '0'):\n",
    "            circuit.x(u[l])"
   ]
  },
  {
   "cell_type": "code",
   "execution_count": 23,
   "id": "7ea9a141-9a4b-460c-8203-9e3dfbf166e4",
   "metadata": {},
   "outputs": [],
   "source": [
    "#creazione registri\n",
    "prova = QuantumRegister(1,\"p\") #fidelity ancilla\n",
    "i = QuantumRegister(2,\"i\")\n",
    "j = QuantumRegister(2,\"j\")  #sempre 2 per indicare le features. Sono fissi.\n",
    "q = QuantumRegister(2,\"q\") #qbit indice per i training\n",
    "r = QuantumRegister(2,\"r\") \n",
    "classe = QuantumRegister(2,\"classe\") #2 qbits --> quattro classi (a noi ne servono 3)\n",
    "b = ClassicalRegister(1,\"b\") #for measure fideilty ancilla\n",
    "c = ClassicalRegister(2,\"c\") #for measure r0r1, has to be both 11 on the histogram\n",
    "c3 = ClassicalRegister(2,\"c3\") #for measure qbit classi 00,01,10\n",
    "c4= ClassicalRegister(2,\"c4\") #for measure q0q1 indexes"
   ]
  },
  {
   "cell_type": "code",
   "execution_count": 24,
   "id": "abc9c82c",
   "metadata": {
    "scrolled": false
   },
   "outputs": [
    {
     "name": "stdout",
     "output_type": "stream",
     "text": [
      "Indice for loop: 71\n",
      "Classe inputVector: Iris-versicolor\n",
      "inputVector:\n",
      "f0              0.449463\n",
      "f1             -0.849454\n",
      "f2              0.198338\n",
      "f3              0.192542\n",
      "class    Iris-versicolor\n",
      "Name: 71, dtype: object\n",
      "Circuito: 0\n",
      "          f0        f1        f2        f3        class\n",
      "36 -0.187611  0.465434 -0.630528 -0.592122  Iris-setosa\n",
      "12 -0.539088 -0.053286 -0.571961 -0.615959  Iris-setosa\n",
      "3  -0.633543  0.044764 -0.540137 -0.552152  Iris-setosa\n",
      "30 -0.574614  0.048383 -0.557958 -0.596792  Iris-setosa\n",
      "Circuito: 1\n",
      "           f0        f1        f2        f3            class\n",
      "24  -0.560878  0.355224 -0.468932 -0.582525      Iris-setosa\n",
      "65   0.913256  0.093653  0.320869  0.232887  Iris-versicolor\n",
      "137  0.468601  0.073952  0.687943  0.549253   Iris-virginica\n",
      "44  -0.367368  0.704105 -0.431104 -0.428284      Iris-setosa\n",
      "Circuito: 2\n",
      "           f0        f1        f2        f3           class\n",
      "126  0.351933 -0.478645  0.482226  0.643817  Iris-virginica\n",
      "2   -0.579648  0.141360 -0.584998 -0.549365     Iris-setosa\n",
      "125  0.730354  0.150105  0.566278  0.351257  Iris-virginica\n",
      "28  -0.356854  0.366533 -0.614023 -0.601069     Iris-setosa\n",
      "Circuito: 3\n",
      "           f0        f1        f2        f3           class\n",
      "48  -0.267841  0.608168 -0.522547 -0.534170     Iris-setosa\n",
      "103  0.376967 -0.242777  0.713345  0.538603  Iris-virginica\n",
      "14  -0.017867  0.744921 -0.495125 -0.446794     Iris-setosa\n",
      "0   -0.387617  0.444156 -0.577230 -0.565052     Iris-setosa\n"
     ]
    },
    {
     "ename": "KeyboardInterrupt",
     "evalue": "",
     "output_type": "error",
     "traceback": [
      "\u001b[0;31m---------------------------------------------------------------------------\u001b[0m",
      "\u001b[0;31mKeyboardInterrupt\u001b[0m                         Traceback (most recent call last)",
      "Input \u001b[0;32mIn [24]\u001b[0m, in \u001b[0;36m<cell line: 3>\u001b[0;34m()\u001b[0m\n\u001b[1;32m     54\u001b[0m \u001b[38;5;66;03m#result\u001b[39;00m\n\u001b[1;32m     55\u001b[0m simulator \u001b[38;5;241m=\u001b[39m Aer\u001b[38;5;241m.\u001b[39mget_backend(\u001b[38;5;124m'\u001b[39m\u001b[38;5;124mqasm_simulator\u001b[39m\u001b[38;5;124m'\u001b[39m)\n\u001b[0;32m---> 56\u001b[0m job \u001b[38;5;241m=\u001b[39m \u001b[43mexecute\u001b[49m\u001b[43m(\u001b[49m\u001b[43mcircuit\u001b[49m\u001b[43m[\u001b[49m\u001b[43mp\u001b[49m\u001b[43m]\u001b[49m\u001b[43m,\u001b[49m\u001b[43m \u001b[49m\u001b[43msimulator\u001b[49m\u001b[43m,\u001b[49m\u001b[43m \u001b[49m\u001b[43mshots\u001b[49m\u001b[38;5;241;43m=\u001b[39;49m\u001b[38;5;241;43m5000000\u001b[39;49m\u001b[43m)\u001b[49m\n\u001b[1;32m     57\u001b[0m result \u001b[38;5;241m=\u001b[39m job\u001b[38;5;241m.\u001b[39mresult()\n\u001b[1;32m     58\u001b[0m counts \u001b[38;5;241m=\u001b[39m result\u001b[38;5;241m.\u001b[39mget_counts(circuit[p])\n",
      "File \u001b[0;32m~/opt/anaconda3/envs/KNN/lib/python3.9/site-packages/qiskit/execute_function.py:299\u001b[0m, in \u001b[0;36mexecute\u001b[0;34m(experiments, backend, basis_gates, coupling_map, backend_properties, initial_layout, seed_transpiler, optimization_level, pass_manager, qobj_id, qobj_header, shots, memory, max_credits, seed_simulator, default_qubit_los, default_meas_los, qubit_lo_range, meas_lo_range, schedule_los, meas_level, meas_return, memory_slots, memory_slot_size, rep_time, rep_delay, parameter_binds, schedule_circuit, inst_map, meas_map, scheduling_method, init_qubits, **run_config)\u001b[0m\n\u001b[1;32m    296\u001b[0m     experiments \u001b[38;5;241m=\u001b[39m pass_manager\u001b[38;5;241m.\u001b[39mrun(experiments)\n\u001b[1;32m    297\u001b[0m \u001b[38;5;28;01melse\u001b[39;00m:\n\u001b[1;32m    298\u001b[0m     \u001b[38;5;66;03m# transpiling the circuits using given transpile options\u001b[39;00m\n\u001b[0;32m--> 299\u001b[0m     experiments \u001b[38;5;241m=\u001b[39m \u001b[43mtranspile\u001b[49m\u001b[43m(\u001b[49m\n\u001b[1;32m    300\u001b[0m \u001b[43m        \u001b[49m\u001b[43mexperiments\u001b[49m\u001b[43m,\u001b[49m\n\u001b[1;32m    301\u001b[0m \u001b[43m        \u001b[49m\u001b[43mbasis_gates\u001b[49m\u001b[38;5;241;43m=\u001b[39;49m\u001b[43mbasis_gates\u001b[49m\u001b[43m,\u001b[49m\n\u001b[1;32m    302\u001b[0m \u001b[43m        \u001b[49m\u001b[43mcoupling_map\u001b[49m\u001b[38;5;241;43m=\u001b[39;49m\u001b[43mcoupling_map\u001b[49m\u001b[43m,\u001b[49m\n\u001b[1;32m    303\u001b[0m \u001b[43m        \u001b[49m\u001b[43mbackend_properties\u001b[49m\u001b[38;5;241;43m=\u001b[39;49m\u001b[43mbackend_properties\u001b[49m\u001b[43m,\u001b[49m\n\u001b[1;32m    304\u001b[0m \u001b[43m        \u001b[49m\u001b[43minitial_layout\u001b[49m\u001b[38;5;241;43m=\u001b[39;49m\u001b[43minitial_layout\u001b[49m\u001b[43m,\u001b[49m\n\u001b[1;32m    305\u001b[0m \u001b[43m        \u001b[49m\u001b[43mseed_transpiler\u001b[49m\u001b[38;5;241;43m=\u001b[39;49m\u001b[43mseed_transpiler\u001b[49m\u001b[43m,\u001b[49m\n\u001b[1;32m    306\u001b[0m \u001b[43m        \u001b[49m\u001b[43moptimization_level\u001b[49m\u001b[38;5;241;43m=\u001b[39;49m\u001b[43moptimization_level\u001b[49m\u001b[43m,\u001b[49m\n\u001b[1;32m    307\u001b[0m \u001b[43m        \u001b[49m\u001b[43mbackend\u001b[49m\u001b[38;5;241;43m=\u001b[39;49m\u001b[43mbackend\u001b[49m\u001b[43m,\u001b[49m\n\u001b[1;32m    308\u001b[0m \u001b[43m    \u001b[49m\u001b[43m)\u001b[49m\n\u001b[1;32m    310\u001b[0m \u001b[38;5;28;01mif\u001b[39;00m schedule_circuit:\n\u001b[1;32m    311\u001b[0m     experiments \u001b[38;5;241m=\u001b[39m schedule(\n\u001b[1;32m    312\u001b[0m         circuits\u001b[38;5;241m=\u001b[39mexperiments,\n\u001b[1;32m    313\u001b[0m         backend\u001b[38;5;241m=\u001b[39mbackend,\n\u001b[0;32m   (...)\u001b[0m\n\u001b[1;32m    316\u001b[0m         method\u001b[38;5;241m=\u001b[39mscheduling_method,\n\u001b[1;32m    317\u001b[0m     )\n",
      "File \u001b[0;32m~/opt/anaconda3/envs/KNN/lib/python3.9/site-packages/qiskit/compiler/transpiler.py:341\u001b[0m, in \u001b[0;36mtranspile\u001b[0;34m(circuits, backend, basis_gates, inst_map, coupling_map, backend_properties, initial_layout, layout_method, routing_method, translation_method, scheduling_method, instruction_durations, dt, approximation_degree, timing_constraints, seed_transpiler, optimization_level, callback, output_name, unitary_synthesis_method, unitary_synthesis_plugin_config, target)\u001b[0m\n\u001b[1;32m    338\u001b[0m     \u001b[38;5;28;01mfor\u001b[39;00m circuit, unique_args \u001b[38;5;129;01min\u001b[39;00m \u001b[38;5;28mzip\u001b[39m(circuits, unique_transpile_args):\n\u001b[1;32m    339\u001b[0m         transpile_config, pass_manager \u001b[38;5;241m=\u001b[39m _combine_args(shared_args, unique_args)\n\u001b[1;32m    340\u001b[0m         output_circuits\u001b[38;5;241m.\u001b[39mappend(\n\u001b[0;32m--> 341\u001b[0m             \u001b[43m_serial_transpile_circuit\u001b[49m\u001b[43m(\u001b[49m\n\u001b[1;32m    342\u001b[0m \u001b[43m                \u001b[49m\u001b[43mcircuit\u001b[49m\u001b[43m,\u001b[49m\n\u001b[1;32m    343\u001b[0m \u001b[43m                \u001b[49m\u001b[43mpass_manager\u001b[49m\u001b[43m,\u001b[49m\n\u001b[1;32m    344\u001b[0m \u001b[43m                \u001b[49m\u001b[43mtranspile_config\u001b[49m\u001b[43m[\u001b[49m\u001b[38;5;124;43m\"\u001b[39;49m\u001b[38;5;124;43mcallback\u001b[39;49m\u001b[38;5;124;43m\"\u001b[39;49m\u001b[43m]\u001b[49m\u001b[43m,\u001b[49m\n\u001b[1;32m    345\u001b[0m \u001b[43m                \u001b[49m\u001b[43mtranspile_config\u001b[49m\u001b[43m[\u001b[49m\u001b[38;5;124;43m\"\u001b[39;49m\u001b[38;5;124;43moutput_name\u001b[39;49m\u001b[38;5;124;43m\"\u001b[39;49m\u001b[43m]\u001b[49m\u001b[43m,\u001b[49m\n\u001b[1;32m    346\u001b[0m \u001b[43m                \u001b[49m\u001b[43mtranspile_config\u001b[49m\u001b[43m[\u001b[49m\u001b[38;5;124;43m\"\u001b[39;49m\u001b[38;5;124;43mbackend_num_qubits\u001b[39;49m\u001b[38;5;124;43m\"\u001b[39;49m\u001b[43m]\u001b[49m\u001b[43m,\u001b[49m\n\u001b[1;32m    347\u001b[0m \u001b[43m                \u001b[49m\u001b[43mtranspile_config\u001b[49m\u001b[43m[\u001b[49m\u001b[38;5;124;43m\"\u001b[39;49m\u001b[38;5;124;43mfaulty_qubits_map\u001b[39;49m\u001b[38;5;124;43m\"\u001b[39;49m\u001b[43m]\u001b[49m\u001b[43m,\u001b[49m\n\u001b[1;32m    348\u001b[0m \u001b[43m                \u001b[49m\u001b[43mtranspile_config\u001b[49m\u001b[43m[\u001b[49m\u001b[38;5;124;43m\"\u001b[39;49m\u001b[38;5;124;43mpass_manager_config\u001b[39;49m\u001b[38;5;124;43m\"\u001b[39;49m\u001b[43m]\u001b[49m\u001b[38;5;241;43m.\u001b[39;49m\u001b[43mbackend_properties\u001b[49m\u001b[43m,\u001b[49m\n\u001b[1;32m    349\u001b[0m \u001b[43m            \u001b[49m\u001b[43m)\u001b[49m\n\u001b[1;32m    350\u001b[0m         )\n\u001b[1;32m    351\u001b[0m     circuits \u001b[38;5;241m=\u001b[39m output_circuits\n\u001b[1;32m    352\u001b[0m end_time \u001b[38;5;241m=\u001b[39m time()\n",
      "File \u001b[0;32m~/opt/anaconda3/envs/KNN/lib/python3.9/site-packages/qiskit/compiler/transpiler.py:434\u001b[0m, in \u001b[0;36m_serial_transpile_circuit\u001b[0;34m(circuit, pass_manager, callback, output_name, num_qubits, faulty_qubits_map, backend_prop)\u001b[0m\n\u001b[1;32m    425\u001b[0m \u001b[38;5;28;01mdef\u001b[39;00m \u001b[38;5;21m_serial_transpile_circuit\u001b[39m(\n\u001b[1;32m    426\u001b[0m     circuit,\n\u001b[1;32m    427\u001b[0m     pass_manager,\n\u001b[0;32m   (...)\u001b[0m\n\u001b[1;32m    432\u001b[0m     backend_prop\u001b[38;5;241m=\u001b[39m\u001b[38;5;28;01mNone\u001b[39;00m,\n\u001b[1;32m    433\u001b[0m ):\n\u001b[0;32m--> 434\u001b[0m     result \u001b[38;5;241m=\u001b[39m \u001b[43mpass_manager\u001b[49m\u001b[38;5;241;43m.\u001b[39;49m\u001b[43mrun\u001b[49m\u001b[43m(\u001b[49m\u001b[43mcircuit\u001b[49m\u001b[43m,\u001b[49m\u001b[43m \u001b[49m\u001b[43mcallback\u001b[49m\u001b[38;5;241;43m=\u001b[39;49m\u001b[43mcallback\u001b[49m\u001b[43m,\u001b[49m\u001b[43m \u001b[49m\u001b[43moutput_name\u001b[49m\u001b[38;5;241;43m=\u001b[39;49m\u001b[43moutput_name\u001b[49m\u001b[43m)\u001b[49m\n\u001b[1;32m    435\u001b[0m     \u001b[38;5;28;01mif\u001b[39;00m faulty_qubits_map:\n\u001b[1;32m    436\u001b[0m         \u001b[38;5;28;01mreturn\u001b[39;00m _remap_circuit_faulty_backend(\n\u001b[1;32m    437\u001b[0m             result,\n\u001b[1;32m    438\u001b[0m             num_qubits,\n\u001b[1;32m    439\u001b[0m             backend_prop,\n\u001b[1;32m    440\u001b[0m             faulty_qubits_map,\n\u001b[1;32m    441\u001b[0m         )\n",
      "File \u001b[0;32m~/opt/anaconda3/envs/KNN/lib/python3.9/site-packages/qiskit/transpiler/passmanager.py:507\u001b[0m, in \u001b[0;36mStagedPassManager.run\u001b[0;34m(self, circuits, output_name, callback)\u001b[0m\n\u001b[1;32m    500\u001b[0m \u001b[38;5;28;01mdef\u001b[39;00m \u001b[38;5;21mrun\u001b[39m(\n\u001b[1;32m    501\u001b[0m     \u001b[38;5;28mself\u001b[39m,\n\u001b[1;32m    502\u001b[0m     circuits: Union[QuantumCircuit, List[QuantumCircuit]],\n\u001b[1;32m    503\u001b[0m     output_name: \u001b[38;5;28mstr\u001b[39m \u001b[38;5;241m=\u001b[39m \u001b[38;5;28;01mNone\u001b[39;00m,\n\u001b[1;32m    504\u001b[0m     callback: Callable \u001b[38;5;241m=\u001b[39m \u001b[38;5;28;01mNone\u001b[39;00m,\n\u001b[1;32m    505\u001b[0m ) \u001b[38;5;241m-\u001b[39m\u001b[38;5;241m>\u001b[39m Union[QuantumCircuit, List[QuantumCircuit]]:\n\u001b[1;32m    506\u001b[0m     \u001b[38;5;28mself\u001b[39m\u001b[38;5;241m.\u001b[39m_update_passmanager()\n\u001b[0;32m--> 507\u001b[0m     \u001b[38;5;28;01mreturn\u001b[39;00m \u001b[38;5;28;43msuper\u001b[39;49m\u001b[43m(\u001b[49m\u001b[43m)\u001b[49m\u001b[38;5;241;43m.\u001b[39;49m\u001b[43mrun\u001b[49m\u001b[43m(\u001b[49m\u001b[43mcircuits\u001b[49m\u001b[43m,\u001b[49m\u001b[43m \u001b[49m\u001b[43moutput_name\u001b[49m\u001b[43m,\u001b[49m\u001b[43m \u001b[49m\u001b[43mcallback\u001b[49m\u001b[43m)\u001b[49m\n",
      "File \u001b[0;32m~/opt/anaconda3/envs/KNN/lib/python3.9/site-packages/qiskit/transpiler/passmanager.py:224\u001b[0m, in \u001b[0;36mPassManager.run\u001b[0;34m(self, circuits, output_name, callback)\u001b[0m\n\u001b[1;32m    222\u001b[0m     \u001b[38;5;28;01mreturn\u001b[39;00m circuits\n\u001b[1;32m    223\u001b[0m \u001b[38;5;28;01mif\u001b[39;00m \u001b[38;5;28misinstance\u001b[39m(circuits, QuantumCircuit):\n\u001b[0;32m--> 224\u001b[0m     \u001b[38;5;28;01mreturn\u001b[39;00m \u001b[38;5;28;43mself\u001b[39;49m\u001b[38;5;241;43m.\u001b[39;49m\u001b[43m_run_single_circuit\u001b[49m\u001b[43m(\u001b[49m\u001b[43mcircuits\u001b[49m\u001b[43m,\u001b[49m\u001b[43m \u001b[49m\u001b[43moutput_name\u001b[49m\u001b[43m,\u001b[49m\u001b[43m \u001b[49m\u001b[43mcallback\u001b[49m\u001b[43m)\u001b[49m\n\u001b[1;32m    225\u001b[0m \u001b[38;5;28;01mif\u001b[39;00m \u001b[38;5;28mlen\u001b[39m(circuits) \u001b[38;5;241m==\u001b[39m \u001b[38;5;241m1\u001b[39m:\n\u001b[1;32m    226\u001b[0m     \u001b[38;5;28;01mreturn\u001b[39;00m \u001b[38;5;28mself\u001b[39m\u001b[38;5;241m.\u001b[39m_run_single_circuit(circuits[\u001b[38;5;241m0\u001b[39m], output_name, callback)\n",
      "File \u001b[0;32m~/opt/anaconda3/envs/KNN/lib/python3.9/site-packages/qiskit/transpiler/passmanager.py:279\u001b[0m, in \u001b[0;36mPassManager._run_single_circuit\u001b[0;34m(self, circuit, output_name, callback)\u001b[0m\n\u001b[1;32m    267\u001b[0m \u001b[38;5;124;03m\"\"\"Run all the passes on a ``circuit``.\u001b[39;00m\n\u001b[1;32m    268\u001b[0m \n\u001b[1;32m    269\u001b[0m \u001b[38;5;124;03mArgs:\u001b[39;00m\n\u001b[0;32m   (...)\u001b[0m\n\u001b[1;32m    276\u001b[0m \u001b[38;5;124;03m    The transformed circuit.\u001b[39;00m\n\u001b[1;32m    277\u001b[0m \u001b[38;5;124;03m\"\"\"\u001b[39;00m\n\u001b[1;32m    278\u001b[0m running_passmanager \u001b[38;5;241m=\u001b[39m \u001b[38;5;28mself\u001b[39m\u001b[38;5;241m.\u001b[39m_create_running_passmanager()\n\u001b[0;32m--> 279\u001b[0m result \u001b[38;5;241m=\u001b[39m \u001b[43mrunning_passmanager\u001b[49m\u001b[38;5;241;43m.\u001b[39;49m\u001b[43mrun\u001b[49m\u001b[43m(\u001b[49m\u001b[43mcircuit\u001b[49m\u001b[43m,\u001b[49m\u001b[43m \u001b[49m\u001b[43moutput_name\u001b[49m\u001b[38;5;241;43m=\u001b[39;49m\u001b[43moutput_name\u001b[49m\u001b[43m,\u001b[49m\u001b[43m \u001b[49m\u001b[43mcallback\u001b[49m\u001b[38;5;241;43m=\u001b[39;49m\u001b[43mcallback\u001b[49m\u001b[43m)\u001b[49m\n\u001b[1;32m    280\u001b[0m \u001b[38;5;28mself\u001b[39m\u001b[38;5;241m.\u001b[39mproperty_set \u001b[38;5;241m=\u001b[39m running_passmanager\u001b[38;5;241m.\u001b[39mproperty_set\n\u001b[1;32m    281\u001b[0m \u001b[38;5;28;01mreturn\u001b[39;00m result\n",
      "File \u001b[0;32m~/opt/anaconda3/envs/KNN/lib/python3.9/site-packages/qiskit/transpiler/runningpassmanager.py:124\u001b[0m, in \u001b[0;36mRunningPassManager.run\u001b[0;34m(***failed resolving arguments***)\u001b[0m\n\u001b[1;32m    122\u001b[0m \u001b[38;5;28;01mfor\u001b[39;00m passset \u001b[38;5;129;01min\u001b[39;00m \u001b[38;5;28mself\u001b[39m\u001b[38;5;241m.\u001b[39mworking_list:\n\u001b[1;32m    123\u001b[0m     \u001b[38;5;28;01mfor\u001b[39;00m pass_ \u001b[38;5;129;01min\u001b[39;00m passset:\n\u001b[0;32m--> 124\u001b[0m         dag \u001b[38;5;241m=\u001b[39m \u001b[38;5;28;43mself\u001b[39;49m\u001b[38;5;241;43m.\u001b[39;49m\u001b[43m_do_pass\u001b[49m\u001b[43m(\u001b[49m\u001b[43mpass_\u001b[49m\u001b[43m,\u001b[49m\u001b[43m \u001b[49m\u001b[43mdag\u001b[49m\u001b[43m,\u001b[49m\u001b[43m \u001b[49m\u001b[43mpassset\u001b[49m\u001b[38;5;241;43m.\u001b[39;49m\u001b[43moptions\u001b[49m\u001b[43m)\u001b[49m\n\u001b[1;32m    126\u001b[0m circuit \u001b[38;5;241m=\u001b[39m dag_to_circuit(dag)\n\u001b[1;32m    127\u001b[0m \u001b[38;5;28;01mif\u001b[39;00m output_name:\n",
      "File \u001b[0;32m~/opt/anaconda3/envs/KNN/lib/python3.9/site-packages/qiskit/transpiler/runningpassmanager.py:167\u001b[0m, in \u001b[0;36mRunningPassManager._do_pass\u001b[0;34m(self, pass_, dag, options)\u001b[0m\n\u001b[1;32m    165\u001b[0m \u001b[38;5;66;03m# Run the pass itself, if not already run\u001b[39;00m\n\u001b[1;32m    166\u001b[0m \u001b[38;5;28;01mif\u001b[39;00m pass_ \u001b[38;5;129;01mnot\u001b[39;00m \u001b[38;5;129;01min\u001b[39;00m \u001b[38;5;28mself\u001b[39m\u001b[38;5;241m.\u001b[39mvalid_passes:\n\u001b[0;32m--> 167\u001b[0m     dag \u001b[38;5;241m=\u001b[39m \u001b[38;5;28;43mself\u001b[39;49m\u001b[38;5;241;43m.\u001b[39;49m\u001b[43m_run_this_pass\u001b[49m\u001b[43m(\u001b[49m\u001b[43mpass_\u001b[49m\u001b[43m,\u001b[49m\u001b[43m \u001b[49m\u001b[43mdag\u001b[49m\u001b[43m)\u001b[49m\n\u001b[1;32m    169\u001b[0m     \u001b[38;5;66;03m# update the valid_passes property\u001b[39;00m\n\u001b[1;32m    170\u001b[0m     \u001b[38;5;28mself\u001b[39m\u001b[38;5;241m.\u001b[39m_update_valid_passes(pass_)\n",
      "File \u001b[0;32m~/opt/anaconda3/envs/KNN/lib/python3.9/site-packages/qiskit/transpiler/runningpassmanager.py:196\u001b[0m, in \u001b[0;36mRunningPassManager._run_this_pass\u001b[0;34m(self, pass_, dag)\u001b[0m\n\u001b[1;32m    193\u001b[0m \u001b[38;5;28;01mif\u001b[39;00m pass_\u001b[38;5;241m.\u001b[39mis_transformation_pass:\n\u001b[1;32m    194\u001b[0m     \u001b[38;5;66;03m# Measure time if we have a callback or logging set\u001b[39;00m\n\u001b[1;32m    195\u001b[0m     start_time \u001b[38;5;241m=\u001b[39m time()\n\u001b[0;32m--> 196\u001b[0m     new_dag \u001b[38;5;241m=\u001b[39m \u001b[43mpass_\u001b[49m\u001b[38;5;241;43m.\u001b[39;49m\u001b[43mrun\u001b[49m\u001b[43m(\u001b[49m\u001b[43mdag\u001b[49m\u001b[43m)\u001b[49m\n\u001b[1;32m    197\u001b[0m     end_time \u001b[38;5;241m=\u001b[39m time()\n\u001b[1;32m    198\u001b[0m     run_time \u001b[38;5;241m=\u001b[39m end_time \u001b[38;5;241m-\u001b[39m start_time\n",
      "File \u001b[0;32m~/opt/anaconda3/envs/KNN/lib/python3.9/site-packages/qiskit/transpiler/passes/optimization/optimize_1q_decomposition.py:168\u001b[0m, in \u001b[0;36mOptimize1qGatesDecomposition.run\u001b[0;34m(self, dag)\u001b[0m\n\u001b[1;32m    165\u001b[0m     \u001b[38;5;28;01mif\u001b[39;00m \u001b[38;5;124m\"\u001b[39m\u001b[38;5;124mu2\u001b[39m\u001b[38;5;124m\"\u001b[39m \u001b[38;5;129;01mnot\u001b[39;00m \u001b[38;5;129;01min\u001b[39;00m \u001b[38;5;28mself\u001b[39m\u001b[38;5;241m.\u001b[39m_target_basis \u001b[38;5;129;01mand\u001b[39;00m \u001b[38;5;124m\"\u001b[39m\u001b[38;5;124mu1\u001b[39m\u001b[38;5;124m\"\u001b[39m \u001b[38;5;129;01mnot\u001b[39;00m \u001b[38;5;129;01min\u001b[39;00m \u001b[38;5;28mself\u001b[39m\u001b[38;5;241m.\u001b[39m_target_basis:\n\u001b[1;32m    166\u001b[0m         \u001b[38;5;28;01mcontinue\u001b[39;00m\n\u001b[0;32m--> 168\u001b[0m new_basis, new_circ \u001b[38;5;241m=\u001b[39m \u001b[38;5;28;43mself\u001b[39;49m\u001b[38;5;241;43m.\u001b[39;49m\u001b[43m_resynthesize_run\u001b[49m\u001b[43m(\u001b[49m\u001b[43mrun\u001b[49m\u001b[43m)\u001b[49m\n\u001b[1;32m    170\u001b[0m \u001b[38;5;28;01mif\u001b[39;00m new_circ \u001b[38;5;129;01mis\u001b[39;00m \u001b[38;5;129;01mnot\u001b[39;00m \u001b[38;5;28;01mNone\u001b[39;00m \u001b[38;5;129;01mand\u001b[39;00m \u001b[38;5;28mself\u001b[39m\u001b[38;5;241m.\u001b[39m_substitution_checks(dag, run, new_circ, new_basis):\n\u001b[1;32m    171\u001b[0m     new_dag \u001b[38;5;241m=\u001b[39m circuit_to_dag(new_circ)\n",
      "File \u001b[0;32m~/opt/anaconda3/envs/KNN/lib/python3.9/site-packages/qiskit/transpiler/passes/optimization/optimize_1q_decomposition.py:78\u001b[0m, in \u001b[0;36mOptimize1qGatesDecomposition._resynthesize_run\u001b[0;34m(self, run)\u001b[0m\n\u001b[1;32m     75\u001b[0m \u001b[38;5;28;01mfor\u001b[39;00m gate \u001b[38;5;129;01min\u001b[39;00m run[\u001b[38;5;241m1\u001b[39m:]:\n\u001b[1;32m     76\u001b[0m     operator \u001b[38;5;241m=\u001b[39m gate\u001b[38;5;241m.\u001b[39mop\u001b[38;5;241m.\u001b[39mto_matrix()\u001b[38;5;241m.\u001b[39mdot(operator)\n\u001b[0;32m---> 78\u001b[0m new_circs \u001b[38;5;241m=\u001b[39m {k: v\u001b[38;5;241m.\u001b[39m_decompose(operator) \u001b[38;5;28;01mfor\u001b[39;00m k, v \u001b[38;5;129;01min\u001b[39;00m \u001b[38;5;28mself\u001b[39m\u001b[38;5;241m.\u001b[39m_decomposers\u001b[38;5;241m.\u001b[39mitems()}\n\u001b[1;32m     80\u001b[0m new_basis, new_circ \u001b[38;5;241m=\u001b[39m \u001b[38;5;28;01mNone\u001b[39;00m, \u001b[38;5;28;01mNone\u001b[39;00m\n\u001b[1;32m     81\u001b[0m \u001b[38;5;28;01mif\u001b[39;00m \u001b[38;5;28mlen\u001b[39m(new_circs) \u001b[38;5;241m>\u001b[39m \u001b[38;5;241m0\u001b[39m:\n",
      "File \u001b[0;32m~/opt/anaconda3/envs/KNN/lib/python3.9/site-packages/qiskit/transpiler/passes/optimization/optimize_1q_decomposition.py:78\u001b[0m, in \u001b[0;36m<dictcomp>\u001b[0;34m(.0)\u001b[0m\n\u001b[1;32m     75\u001b[0m \u001b[38;5;28;01mfor\u001b[39;00m gate \u001b[38;5;129;01min\u001b[39;00m run[\u001b[38;5;241m1\u001b[39m:]:\n\u001b[1;32m     76\u001b[0m     operator \u001b[38;5;241m=\u001b[39m gate\u001b[38;5;241m.\u001b[39mop\u001b[38;5;241m.\u001b[39mto_matrix()\u001b[38;5;241m.\u001b[39mdot(operator)\n\u001b[0;32m---> 78\u001b[0m new_circs \u001b[38;5;241m=\u001b[39m {k: \u001b[43mv\u001b[49m\u001b[38;5;241;43m.\u001b[39;49m\u001b[43m_decompose\u001b[49m\u001b[43m(\u001b[49m\u001b[43moperator\u001b[49m\u001b[43m)\u001b[49m \u001b[38;5;28;01mfor\u001b[39;00m k, v \u001b[38;5;129;01min\u001b[39;00m \u001b[38;5;28mself\u001b[39m\u001b[38;5;241m.\u001b[39m_decomposers\u001b[38;5;241m.\u001b[39mitems()}\n\u001b[1;32m     80\u001b[0m new_basis, new_circ \u001b[38;5;241m=\u001b[39m \u001b[38;5;28;01mNone\u001b[39;00m, \u001b[38;5;28;01mNone\u001b[39;00m\n\u001b[1;32m     81\u001b[0m \u001b[38;5;28;01mif\u001b[39;00m \u001b[38;5;28mlen\u001b[39m(new_circs) \u001b[38;5;241m>\u001b[39m \u001b[38;5;241m0\u001b[39m:\n",
      "File \u001b[0;32m~/opt/anaconda3/envs/KNN/lib/python3.9/site-packages/qiskit/quantum_info/synthesis/one_qubit_decompose.py:167\u001b[0m, in \u001b[0;36mOneQubitEulerDecomposer._decompose\u001b[0;34m(self, unitary, simplify, atol)\u001b[0m\n\u001b[1;32m    165\u001b[0m \u001b[38;5;28;01mdef\u001b[39;00m \u001b[38;5;21m_decompose\u001b[39m(\u001b[38;5;28mself\u001b[39m, unitary, simplify\u001b[38;5;241m=\u001b[39m\u001b[38;5;28;01mTrue\u001b[39;00m, atol\u001b[38;5;241m=\u001b[39mDEFAULT_ATOL):\n\u001b[1;32m    166\u001b[0m     theta, phi, lam, phase \u001b[38;5;241m=\u001b[39m \u001b[38;5;28mself\u001b[39m\u001b[38;5;241m.\u001b[39m_params(unitary)\n\u001b[0;32m--> 167\u001b[0m     circuit \u001b[38;5;241m=\u001b[39m \u001b[38;5;28;43mself\u001b[39;49m\u001b[38;5;241;43m.\u001b[39;49m\u001b[43m_circuit\u001b[49m\u001b[43m(\u001b[49m\u001b[43mtheta\u001b[49m\u001b[43m,\u001b[49m\u001b[43m \u001b[49m\u001b[43mphi\u001b[49m\u001b[43m,\u001b[49m\u001b[43m \u001b[49m\u001b[43mlam\u001b[49m\u001b[43m,\u001b[49m\u001b[43m \u001b[49m\u001b[43mphase\u001b[49m\u001b[43m,\u001b[49m\u001b[43m \u001b[49m\u001b[43msimplify\u001b[49m\u001b[38;5;241;43m=\u001b[39;49m\u001b[43msimplify\u001b[49m\u001b[43m,\u001b[49m\u001b[43m \u001b[49m\u001b[43matol\u001b[49m\u001b[38;5;241;43m=\u001b[39;49m\u001b[43matol\u001b[49m\u001b[43m)\u001b[49m\n\u001b[1;32m    168\u001b[0m     \u001b[38;5;28;01mreturn\u001b[39;00m circuit\n",
      "File \u001b[0;32m~/opt/anaconda3/envs/KNN/lib/python3.9/site-packages/qiskit/quantum_info/synthesis/one_qubit_decompose.py:580\u001b[0m, in \u001b[0;36mOneQubitEulerDecomposer._circuit_rr\u001b[0;34m(theta, phi, lam, phase, simplify, atol)\u001b[0m\n\u001b[1;32m    578\u001b[0m \u001b[38;5;129m@staticmethod\u001b[39m\n\u001b[1;32m    579\u001b[0m \u001b[38;5;28;01mdef\u001b[39;00m \u001b[38;5;21m_circuit_rr\u001b[39m(theta, phi, lam, phase, simplify\u001b[38;5;241m=\u001b[39m\u001b[38;5;28;01mTrue\u001b[39;00m, atol\u001b[38;5;241m=\u001b[39mDEFAULT_ATOL):\n\u001b[0;32m--> 580\u001b[0m     qr \u001b[38;5;241m=\u001b[39m \u001b[43mQuantumRegister\u001b[49m\u001b[43m(\u001b[49m\u001b[38;5;241;43m1\u001b[39;49m\u001b[43m,\u001b[49m\u001b[43m \u001b[49m\u001b[38;5;124;43m\"\u001b[39;49m\u001b[38;5;124;43mqr\u001b[39;49m\u001b[38;5;124;43m\"\u001b[39;49m\u001b[43m)\u001b[49m\n\u001b[1;32m    581\u001b[0m     circuit \u001b[38;5;241m=\u001b[39m QuantumCircuit(qr, global_phase\u001b[38;5;241m=\u001b[39mphase)\n\u001b[1;32m    582\u001b[0m     \u001b[38;5;28;01mif\u001b[39;00m \u001b[38;5;129;01mnot\u001b[39;00m simplify:\n",
      "File \u001b[0;32m~/opt/anaconda3/envs/KNN/lib/python3.9/site-packages/qiskit/circuit/register.py:113\u001b[0m, in \u001b[0;36mRegister.__init__\u001b[0;34m(self, size, name, bits)\u001b[0m\n\u001b[1;32m    110\u001b[0m \u001b[38;5;28mself\u001b[39m\u001b[38;5;241m.\u001b[39m_size \u001b[38;5;241m=\u001b[39m size\n\u001b[1;32m    112\u001b[0m \u001b[38;5;28mself\u001b[39m\u001b[38;5;241m.\u001b[39m_hash \u001b[38;5;241m=\u001b[39m \u001b[38;5;28mhash\u001b[39m((\u001b[38;5;28mtype\u001b[39m(\u001b[38;5;28mself\u001b[39m), \u001b[38;5;28mself\u001b[39m\u001b[38;5;241m.\u001b[39m_name, \u001b[38;5;28mself\u001b[39m\u001b[38;5;241m.\u001b[39m_size))\n\u001b[0;32m--> 113\u001b[0m \u001b[38;5;28mself\u001b[39m\u001b[38;5;241m.\u001b[39m_repr \u001b[38;5;241m=\u001b[39m \u001b[38;5;124;43m\"\u001b[39;49m\u001b[38;5;132;43;01m%s\u001b[39;49;00m\u001b[38;5;124;43m(\u001b[39;49m\u001b[38;5;132;43;01m%d\u001b[39;49;00m\u001b[38;5;124;43m, \u001b[39;49m\u001b[38;5;124;43m'\u001b[39;49m\u001b[38;5;132;43;01m%s\u001b[39;49;00m\u001b[38;5;124;43m'\u001b[39;49m\u001b[38;5;124;43m)\u001b[39;49m\u001b[38;5;124;43m\"\u001b[39;49m\u001b[43m \u001b[49m\u001b[38;5;241;43m%\u001b[39;49m\u001b[43m \u001b[49m\u001b[43m(\u001b[49m\u001b[38;5;28;43mself\u001b[39;49m\u001b[38;5;241;43m.\u001b[39;49m\u001b[38;5;18;43m__class__\u001b[39;49m\u001b[38;5;241;43m.\u001b[39;49m\u001b[38;5;18;43m__qualname__\u001b[39;49m\u001b[43m,\u001b[49m\u001b[43m \u001b[49m\u001b[38;5;28;43mself\u001b[39;49m\u001b[38;5;241;43m.\u001b[39;49m\u001b[43msize\u001b[49m\u001b[43m,\u001b[49m\u001b[43m \u001b[49m\u001b[38;5;28;43mself\u001b[39;49m\u001b[38;5;241;43m.\u001b[39;49m\u001b[43mname\u001b[49m\u001b[43m)\u001b[49m\n\u001b[1;32m    114\u001b[0m \u001b[38;5;28;01mif\u001b[39;00m bits \u001b[38;5;129;01mis\u001b[39;00m \u001b[38;5;129;01mnot\u001b[39;00m \u001b[38;5;28;01mNone\u001b[39;00m:\n\u001b[1;32m    115\u001b[0m     \u001b[38;5;66;03m# check duplicated bits\u001b[39;00m\n\u001b[1;32m    116\u001b[0m     \u001b[38;5;28;01mif\u001b[39;00m \u001b[38;5;28mself\u001b[39m\u001b[38;5;241m.\u001b[39m_size \u001b[38;5;241m!=\u001b[39m \u001b[38;5;28mlen\u001b[39m(\u001b[38;5;28mset\u001b[39m(bits)):\n",
      "\u001b[0;31mKeyboardInterrupt\u001b[0m: "
     ]
    }
   ],
   "source": [
    "risultati = []\n",
    "ground_truth = []\n",
    "for v in data.index:\n",
    "    p = 0\n",
    "    print(\"Indice for loop:\",v)\n",
    "    circuit = []\n",
    "    inputVector = data.loc[v]\n",
    "    data = data.drop(v)\n",
    "    ground_truth.append(inputVector[\"class\"])\n",
    "    print(\"Classe inputVector:\",inputVector[\"class\"])\n",
    "    print(\"inputVector:\")\n",
    "    print(inputVector)\n",
    "    while not data.empty:\n",
    "        #estrazione del sottoinsieme\n",
    "        subset = data.iloc[:4]\n",
    "        data = data.drop(subset.index)\n",
    "        print(\"Circuito:\",p)\n",
    "        print(subset)\n",
    "    \n",
    "        #creazione circuito\n",
    "        circuit.append(QuantumCircuit(prova,i,j,r,q,classe,b,c,c4,c3))\n",
    "        circuit[p].h(i)\n",
    "        circuit[p].h(j)\n",
    "        circuit[p].h(q)\n",
    "        circuit[p].h(classe)\n",
    "        #encode inputvector\n",
    "        circuit[p].barrier()\n",
    "        encodeVector(circuit[p], inputVector, i, i[:], r[0],None) \n",
    "        circuit[p].barrier()\n",
    "        #encode training\n",
    "        limit = len(subset)\n",
    "        for k in range(limit):\n",
    "            trainingVector = subset.iloc[k]\n",
    "            encodeClasse(circuit[p],trainingVector[\"class\"],classe)\n",
    "            encodeIndex(circuit[p],k,q)\n",
    "            encodeVector(circuit[p], trainingVector[\"f0\":\"f3\"], j, [q[0], q[1], j[0],j[1],classe[1],classe[0]], r[1], None)\n",
    "            encodeIndex(circuit[p],k,q)\n",
    "            encodeClasse(circuit[p],trainingVector[\"class\"],classe)\n",
    "        #fidelity\n",
    "        circuit[p].h(prova[0])\n",
    "        circuit[p].cswap(prova[0],i[0],j[0])\n",
    "        circuit[p].cswap(prova[0],i[1],j[1])\n",
    "        circuit[p].cswap(prova[0],r[0],r[1])\n",
    "        circuit[p].h(prova[0])\n",
    "        circuit[p].barrier()\n",
    "        #misurazioni\n",
    "        circuit[p].measure(prova[0],b[0])\n",
    "        circuit[p].measure(r[0],c[0])\n",
    "        circuit[p].measure(r[1],c[1])\n",
    "        circuit[p].measure(q[0],c4[0])\n",
    "        circuit[p].measure(q[1],c4[1])\n",
    "        circuit[p].measure(classe[0],c3[0])\n",
    "        circuit[p].measure(classe[1],c3[1])\n",
    "        #result\n",
    "        simulator = Aer.get_backend('qasm_simulator')\n",
    "        job = execute(circuit[p], simulator, shots=5000000)\n",
    "        result = job.result()\n",
    "        counts = result.get_counts(circuit[p])\n",
    "        risultati.append(counts)\n",
    "        p+=1\n",
    "    data = data_copy #ripristino il dataset prima della prossima iterazione"
   ]
  },
  {
   "cell_type": "code",
   "execution_count": null,
   "id": "8b76fbd5",
   "metadata": {},
   "outputs": [],
   "source": [
    "#profondità e dimensione\n",
    "'''\n",
    "from qiskit.compiler import transpile\n",
    "\n",
    "\n",
    "backend = Aer.get_backend('qasm_simulator')\n",
    "#backend = provider.get_backend('ibmq_16_melbourne')\n",
    "transpile_circuit = transpile(circuit[0], backend)\n",
    "#transpile_circuit.draw('mpl')\n",
    "\n",
    "print(transpile_circuit.depth())\n",
    "print(transpile_circuit.size())\n",
    "'''"
   ]
  },
  {
   "cell_type": "code",
   "execution_count": null,
   "id": "a4d85ccb-24b6-452d-9024-b3fbddb43c08",
   "metadata": {},
   "outputs": [],
   "source": [
    "len_risultati = len(risultati)\n",
    "final = []\n",
    "for w in range(len_risultati):\n",
    "    goodResult = risultati[w]\n",
    "    \n",
    "    #ordino le configurazioni\n",
    "    sort_counts = sorted(goodResult.items())\n",
    "    m = len(sort_counts)\n",
    "\n",
    "    #lascio \"libera\" la classe\n",
    "    goodValues = []\n",
    "    for k in range(m):\n",
    "        value = sort_counts[k][0]\n",
    "        if(value[6] == '1' and value[7] == '1'):\n",
    "            goodValues.append(sort_counts[k])\n",
    "\n",
    "    #converto in dizionario per il plot\n",
    "    goodValues = dict((k, y) for k, y in goodValues) \n",
    "    final.append(goodValues)"
   ]
  },
  {
   "cell_type": "code",
   "execution_count": null,
   "id": "4fabfbd5",
   "metadata": {},
   "outputs": [],
   "source": [
    "#plot_histogram(final[15])"
   ]
  },
  {
   "cell_type": "code",
   "execution_count": null,
   "id": "bda7c330",
   "metadata": {},
   "outputs": [],
   "source": [
    "#tmp = final[15]\n",
    "#goodCounts = {k: tmp[k] for k in tmp.keys() & {'00 10 11 0', '01 01 11 0', '01 11 11 0', '10 00 11 0'}}\n",
    "#plot_histogram(goodCounts)"
   ]
  },
  {
   "cell_type": "code",
   "execution_count": null,
   "id": "f124b5b8-5af7-4926-9a90-538221860e87",
   "metadata": {},
   "outputs": [],
   "source": [
    "#estraggo il valore più alto per ognuno degli istogrammi \n",
    "prediction = []\n",
    "lunghezza_final = len(final)\n",
    "for i in range(lunghezza_final):\n",
    "    predict = max(final[i], key=final[i].get)\n",
    "    predict = str(predict)\n",
    "    print(\"Circuito:\",i,\"Classe predetta:\",int(predict[:2],2))\n",
    "    prediction.append(int(predict[:2],2))\n",
    "\n"
   ]
  },
  {
   "cell_type": "code",
   "execution_count": null,
   "id": "6058b69a",
   "metadata": {},
   "outputs": [],
   "source": [
    "\n",
    "fields = ['#Vectors', 'Predition', 'Ground truth']\n",
    "filename = \"1nnFourTr_records.csv\"\n",
    "with open(filename, 'w') as csvfile: \n",
    "    # creating a csv writer object \n",
    "    csvwriter = csv.writer(csvfile)\n",
    "    \n",
    "    # writing the fields \n",
    "    csvwriter.writerow(fields)\n",
    "    \n",
    "    j = 0\n",
    "    for i in range(len(ground_truth)):\n",
    "        while j < len(prediction): \n",
    "            row = [['4',prediction[j],ground_truth[i]]]\n",
    "            csvwriter.writerows(row)\n",
    "            j+=1\n",
    "            if ((j%32) == 0):\n",
    "                break\n",
    "            "
   ]
  },
  {
   "cell_type": "code",
   "execution_count": null,
   "id": "ad1c48b3",
   "metadata": {},
   "outputs": [],
   "source": []
  }
 ],
 "metadata": {
  "kernelspec": {
   "display_name": "Python 3 (ipykernel)",
   "language": "python",
   "name": "python3"
  },
  "language_info": {
   "codemirror_mode": {
    "name": "ipython",
    "version": 3
   },
   "file_extension": ".py",
   "mimetype": "text/x-python",
   "name": "python",
   "nbconvert_exporter": "python",
   "pygments_lexer": "ipython3",
   "version": "3.9.12"
  },
  "widgets": {
   "application/vnd.jupyter.widget-state+json": {
    "state": {},
    "version_major": 2,
    "version_minor": 0
   }
  }
 },
 "nbformat": 4,
 "nbformat_minor": 5
}
